{
 "cells": [
  {
   "cell_type": "markdown",
   "metadata": {},
   "source": [
    "## Pytorch - Capsule Network for image classification of x-ray pneunomia images "
   ]
  },
  {
   "cell_type": "code",
   "execution_count": 1,
   "metadata": {},
   "outputs": [],
   "source": [
    "import os\n",
    "os.environ[\"KMP_DUPLICATE_LIB_OK\"]=\"TRUE\"\n",
    "import warnings\n",
    "warnings.simplefilter(action='ignore', category=FutureWarning)\n",
    "\n",
    "import torch\n",
    "import torch.nn as nn\n",
    "import torch.nn.functional as F\n",
    "from torch.utils.data import DataLoader\n",
    "from torchvision import transforms, models, datasets\n",
    "import numpy as np\n",
    "from tqdm import tqdm\n",
    "from torch.cuda.amp import autocast, GradScaler\n",
    "import matplotlib.pyplot as plt\n",
    "from matplotlib.ticker import MaxNLocator"
   ]
  },
  {
   "cell_type": "markdown",
   "metadata": {},
   "source": [
    "## Hyperparameters"
   ]
  },
  {
   "cell_type": "code",
   "execution_count": 2,
   "metadata": {},
   "outputs": [],
   "source": [
    "IMG_SIZE = 224\n",
    "BATCH_SIZE = 32"
   ]
  },
  {
   "cell_type": "markdown",
   "metadata": {},
   "source": [
    "## Data transforms"
   ]
  },
  {
   "cell_type": "code",
   "execution_count": 3,
   "metadata": {},
   "outputs": [],
   "source": [
    "train_transform = transforms.Compose([\n",
    "    transforms.Resize((IMG_SIZE, IMG_SIZE)),\n",
    "    transforms.RandomRotation(20),\n",
    "    transforms.RandomHorizontalFlip(),\n",
    "    transforms.RandomVerticalFlip(),\n",
    "    transforms.ColorJitter(brightness=0.2, contrast=0.2, saturation=0.2),\n",
    "    transforms.RandomAffine(degrees=0, translate=(0.1, 0.1), scale=(0.9, 1.1)),\n",
    "    transforms.ToTensor(),\n",
    "    transforms.Normalize(mean=[0.485, 0.456, 0.406], std=[0.229, 0.224, 0.225]),\n",
    "    transforms.RandomErasing(p=0.2)\n",
    "])\n",
    "\n",
    "val_transform = transforms.Compose([\n",
    "    transforms.Resize((IMG_SIZE, IMG_SIZE)),\n",
    "    transforms.ToTensor(),\n",
    "    transforms.Normalize(mean=[0.485, 0.456, 0.406], std=[0.229, 0.224, 0.225])\n",
    "])"
   ]
  },
  {
   "cell_type": "markdown",
   "metadata": {},
   "source": [
    "## Data loaders"
   ]
  },
  {
   "cell_type": "code",
   "execution_count": 4,
   "metadata": {},
   "outputs": [],
   "source": [
    "\n",
    "train_dataset = datasets.ImageFolder('./data/train/', transform=train_transform)\n",
    "val_dataset = datasets.ImageFolder('./data/val/', transform=val_transform)\n",
    "test_dataset = datasets.ImageFolder('./data/test/', transform=val_transform)\n",
    "\n",
    "train_loader = DataLoader(\n",
    "    train_dataset, \n",
    "    batch_size=BATCH_SIZE, \n",
    "    shuffle=True,\n",
    "    num_workers=4,\n",
    "    pin_memory=True,\n",
    "    persistent_workers=True\n",
    ")\n",
    "val_loader = DataLoader(\n",
    "    val_dataset, \n",
    "    batch_size=BATCH_SIZE,\n",
    "    num_workers=4,\n",
    "    pin_memory=True,\n",
    "    persistent_workers=True\n",
    ")\n",
    "test_loader = DataLoader(test_dataset, batch_size=BATCH_SIZE)"
   ]
  },
  {
   "cell_type": "markdown",
   "metadata": {},
   "source": [
    "## Squash function and Capsule Layer \n"
   ]
  },
  {
   "cell_type": "code",
   "execution_count": 5,
   "metadata": {},
   "outputs": [],
   "source": [
    "# Squash activation function used in capsule networks to ensure vector lengths are between 0 and 1\n",
    "def squash(x, dim=-1):\n",
    "    # Calculate squared norm along specified dimension\n",
    "    squared_norm = (x ** 2).sum(dim=dim, keepdim=True)\n",
    "    # Calculate scaling factor that squashes vectors\n",
    "    scale = squared_norm / (1 + squared_norm)\n",
    "    # Scale the vectors and normalize\n",
    "    return scale * x / torch.sqrt(squared_norm + 1e-8)\n",
    "\n",
    "class CapsuleLayer(nn.Module):\n",
    "    \"\"\"\n",
    "    Implementation of a capsule layer that performs dynamic routing between capsules\n",
    "    \"\"\"\n",
    "    def __init__(self, num_capsules, in_channels, out_channels, routing_iters=3):\n",
    "        super().__init__()\n",
    "        self.num_capsules = num_capsules  # Number of output capsules\n",
    "        self.routing_iters = routing_iters  # Number of routing iterations\n",
    "        self.in_channels = in_channels  # Input capsule dimension\n",
    "        self.out_channels = out_channels  # Output capsule dimension\n",
    "        # Transformation matrices for converting input capsules to output capsules\n",
    "        self.W = nn.Parameter(torch.randn(1, num_capsules, in_channels, out_channels) * 0.01)\n",
    "\n",
    "    def forward(self, x):\n",
    "        batch_size = x.size(0)\n",
    "        # Reshape input for matrix multiplication\n",
    "        x = x.permute(0, 2, 1).unsqueeze(1)\n",
    "        # Expand transformation matrix for batch processing\n",
    "        W = self.W.expand(batch_size, self.num_capsules, self.in_channels, self.out_channels)\n",
    "        # Transform input capsules\n",
    "        u_hat = torch.matmul(x, W)\n",
    "        # Initialize routing logits\n",
    "        b = torch.zeros(batch_size, self.num_capsules, x.size(2), 1).to(x.device)\n",
    "        \n",
    "        # Dynamic routing algorithm\n",
    "        for i in range(self.routing_iters):\n",
    "            # Convert logits to coupling coefficients via softmax\n",
    "            c = F.softmax(b, dim=1)\n",
    "            # Weight prediction vectors by coupling coefficients\n",
    "            s = (c * u_hat).sum(dim=2)\n",
    "            # Apply squashing non-linearity\n",
    "            v = squash(s, dim=-1)\n",
    "            \n",
    "            # Update routing logits (except for last iteration)\n",
    "            if i < self.routing_iters - 1:\n",
    "                v_expanded = v.unsqueeze(2)\n",
    "                # Calculate agreement between predictions and output\n",
    "                agreement = torch.matmul(u_hat, v_expanded.transpose(-1, -2))\n",
    "                b = b + agreement\n",
    "\n",
    "        return v\n"
   ]
  },
  {
   "cell_type": "markdown",
   "metadata": {},
   "source": [
    "## Capsule Network - MobileNetV3 backbone"
   ]
  },
  {
   "cell_type": "code",
   "execution_count": 6,
   "metadata": {},
   "outputs": [],
   "source": [
    "class CapsuleNetwork(nn.Module):\n",
    "    def __init__(self, num_classes=2, dropout_rate=0.5):\n",
    "        super().__init__()\n",
    "        \n",
    "        # MobileNetV3 backbone\n",
    "        backbone = models.mobilenet_v3_large(weights='DEFAULT')\n",
    "        self.features = nn.Sequential(*list(backbone.children())[:-2])\n",
    "        \n",
    "        # Freeze backbone layers\n",
    "        for param in self.features.parameters():\n",
    "            param.requires_grad = False\n",
    "            \n",
    "        # Reduction layer with regularization\n",
    "        self.conv = nn.Sequential(\n",
    "            nn.Conv2d(960, 256, kernel_size=3, stride=1, padding=1),\n",
    "            nn.BatchNorm2d(256),\n",
    "            nn.ReLU(),\n",
    "            nn.Dropout2d(dropout_rate)\n",
    "        )\n",
    "        \n",
    "        # Primary capsules\n",
    "        self.primary_capsules = CapsuleLayer(\n",
    "            num_capsules=16,\n",
    "            in_channels=256,\n",
    "            out_channels=8\n",
    "        )\n",
    "        \n",
    "        # Digit capsules\n",
    "        self.digit_capsules = CapsuleLayer(\n",
    "            num_capsules=num_classes,\n",
    "            in_channels=8,\n",
    "            out_channels=16\n",
    "        )\n",
    "        \n",
    "    def forward(self, x):\n",
    "        x = self.features(x)\n",
    "        x = self.conv(x)\n",
    "        x = x.view(x.size(0), x.size(1), -1)\n",
    "        x = self.primary_capsules(x)\n",
    "        x = x.transpose(1, 2)\n",
    "        x = self.digit_capsules(x)\n",
    "        classes = torch.sqrt((x ** 2).sum(dim=-1))\n",
    "        return classes"
   ]
  },
  {
   "cell_type": "markdown",
   "metadata": {},
   "source": [
    "## Margin loss function"
   ]
  },
  {
   "cell_type": "code",
   "execution_count": 7,
   "metadata": {},
   "outputs": [],
   "source": [
    "def margin_loss(predictions, labels, lambda_=0.5, m_plus=0.9, m_minus=0.1):\n",
    "    positive_cost = labels * torch.clamp(m_plus - predictions, min=0) ** 2\n",
    "    negative_cost = lambda_ * (1 - labels) * torch.clamp(predictions - m_minus, min=0) ** 2\n",
    "    return (positive_cost + negative_cost).sum(dim=1).mean()"
   ]
  },
  {
   "cell_type": "markdown",
   "metadata": {},
   "source": [
    "## Training setup"
   ]
  },
  {
   "cell_type": "code",
   "execution_count": 8,
   "metadata": {},
   "outputs": [],
   "source": [
    "model = CapsuleNetwork(num_classes=2, dropout_rate=0.5).cuda()\n",
    "optimizer = torch.optim.AdamW(\n",
    "    model.parameters(),\n",
    "    lr=0.001,\n",
    "    weight_decay=0.01\n",
    ")\n",
    "scheduler = torch.optim.lr_scheduler.ReduceLROnPlateau(optimizer, mode='min', patience=5)\n",
    "scaler = GradScaler()"
   ]
  },
  {
   "cell_type": "markdown",
   "metadata": {},
   "source": [
    "## Training loop"
   ]
  },
  {
   "cell_type": "code",
   "execution_count": 9,
   "metadata": {},
   "outputs": [],
   "source": [
    "\n",
    "def train_epoch(model, train_loader, optimizer, scaler):\n",
    "    model.train()\n",
    "    total_loss = 0\n",
    "    correct = 0\n",
    "    total = 0\n",
    "    \n",
    "    # Create progress bar\n",
    "    pbar = tqdm(train_loader, desc='Training', leave=False)\n",
    "    \n",
    "    for batch_idx, (data, target) in enumerate(pbar):\n",
    "        data, target = data.cuda(non_blocking=True), target.cuda(non_blocking=True)\n",
    "        target = F.one_hot(target, num_classes=2).float()\n",
    "        \n",
    "        # Mixed precision training with simplified syntax\n",
    "        with autocast():\n",
    "            optimizer.zero_grad(set_to_none=True)\n",
    "            output = model(data)\n",
    "            loss = margin_loss(output, target)\n",
    "        \n",
    "        # Backward pass with gradient scaling\n",
    "        scaler.scale(loss).backward()\n",
    "        scaler.step(optimizer)\n",
    "        scaler.update()\n",
    "        \n",
    "        total_loss += loss.item()\n",
    "        pred = output.argmax(dim=1)\n",
    "        correct += pred.eq(target.argmax(dim=1)).sum().item()\n",
    "        total += target.size(0)\n",
    "        \n",
    "        # Update progress bar\n",
    "        pbar.set_postfix({\n",
    "            'loss': f'{loss.item():.4f}',\n",
    "            'acc': f'{correct/total:.4f}'\n",
    "        })\n",
    "    \n",
    "    return total_loss / len(train_loader), correct / total\n"
   ]
  },
  {
   "cell_type": "markdown",
   "metadata": {},
   "source": [
    "## Validation function "
   ]
  },
  {
   "cell_type": "code",
   "execution_count": 10,
   "metadata": {},
   "outputs": [],
   "source": [
    "@torch.no_grad()  \n",
    "def validate(model, val_loader):\n",
    "    model.eval()\n",
    "    val_loss = 0\n",
    "    correct = 0\n",
    "    total = 0\n",
    "    \n",
    "    pbar = tqdm(val_loader, desc='Validating', leave=False)\n",
    "    \n",
    "    for data, target in pbar:\n",
    "        data, target = data.cuda(non_blocking=True), target.cuda(non_blocking=True)\n",
    "        target = F.one_hot(target, num_classes=2).float()\n",
    "        \n",
    "        with autocast():\n",
    "            output = model(data)\n",
    "            loss = margin_loss(output, target)\n",
    "        \n",
    "        val_loss += loss.item()\n",
    "        pred = output.argmax(dim=1)\n",
    "        correct += pred.eq(target.argmax(dim=1)).sum().item()\n",
    "        total += target.size(0)\n",
    "        \n",
    "        pbar.set_postfix({\n",
    "            'loss': f'{loss.item():.4f}',\n",
    "            'acc': f'{correct/total:.4f}'\n",
    "        })\n",
    "    \n",
    "    return val_loss / len(val_loader), correct / total\n"
   ]
  },
  {
   "cell_type": "markdown",
   "metadata": {},
   "source": [
    "## Training loop with progress tracking"
   ]
  },
  {
   "cell_type": "code",
   "execution_count": 11,
   "metadata": {},
   "outputs": [
    {
     "name": "stderr",
     "output_type": "stream",
     "text": [
      "Epochs: 100%|██████████| 30/30 [13:42<00:00, 27.41s/it, train_loss=0.0375, train_acc=0.9440, val_loss=0.1050, val_acc=0.8750, lr=0.000000]\n"
     ]
    }
   ],
   "source": [
    "train_losses = []\n",
    "train_accs = []\n",
    "val_losses = []\n",
    "val_accs = []\n",
    "\n",
    "num_epochs = 30\n",
    "best_val_acc = 0\n",
    "\n",
    "epoch_pbar = tqdm(range(num_epochs), desc='Epochs')\n",
    "for epoch in epoch_pbar:\n",
    "    train_loss, train_acc = train_epoch(model, train_loader, optimizer, scaler)\n",
    "    val_loss, val_acc = validate(model, val_loader)\n",
    "    \n",
    "    # Store metrics\n",
    "    train_losses.append(train_loss)\n",
    "    train_accs.append(train_acc)\n",
    "    val_losses.append(val_loss)\n",
    "    val_accs.append(val_acc)\n",
    "    \n",
    "    scheduler.step(val_loss)\n",
    "    \n",
    "    if val_acc > best_val_acc:\n",
    "        best_val_acc = val_acc\n",
    "        torch.save({\n",
    "            'epoch': epoch,\n",
    "            'model_state_dict': model.state_dict(),\n",
    "            'optimizer_state_dict': optimizer.state_dict(),\n",
    "            'scheduler_state_dict': scheduler.state_dict(),\n",
    "            'best_val_acc': best_val_acc,\n",
    "            'train_losses': train_losses,\n",
    "            'train_accs': train_accs,\n",
    "            'val_losses': val_losses,\n",
    "            'val_accs': val_accs\n",
    "        }, 'best_model.pth')\n",
    "    \n",
    "    epoch_pbar.set_postfix({\n",
    "        'train_loss': f'{train_loss:.4f}',\n",
    "        'train_acc': f'{train_acc:.4f}',\n",
    "        'val_loss': f'{val_loss:.4f}',\n",
    "        'val_acc': f'{val_acc:.4f}',\n",
    "        'lr': f'{optimizer.param_groups[0][\"lr\"]:.6f}'\n",
    "    })\n"
   ]
  },
  {
   "cell_type": "markdown",
   "metadata": {},
   "source": [
    "## Plotting learning curves"
   ]
  },
  {
   "cell_type": "code",
   "execution_count": 12,
   "metadata": {},
   "outputs": [
    {
     "data": {
      "image/png": "[encoded data removed]",
      "text/plain": [
       "<Figure size 700x700 with 2 Axes>"
      ]
     },
     "metadata": {},
     "output_type": "display_data"
    },
    {
     "name": "stdout",
     "output_type": "stream",
     "text": [
      "\n",
      "Best validation accuracy: 0.9375\n"
     ]
    }
   ],
   "source": [
    "fig, (ax1, ax2) = plt.subplots(2, 1, figsize=(7, 7))\n",
    "\n",
    "# Plot accuracy\n",
    "ax1.plot(train_accs, label='Train Accuracy', color='blue')\n",
    "ax1.plot(val_accs, label='Validation Accuracy', color='red')\n",
    "ax1.set_title('Model Accuracy over Epochs')\n",
    "ax1.set_xlabel('Epoch')\n",
    "ax1.set_ylabel('Accuracy')\n",
    "ax1.legend()\n",
    "ax1.grid(True)\n",
    "ax1.xaxis.set_major_locator(MaxNLocator(integer=True))\n",
    "\n",
    "# Plot loss\n",
    "ax2.plot(train_losses, label='Train Loss', color='blue')\n",
    "ax2.plot(val_losses, label='Validation Loss', color='red')\n",
    "ax2.set_title('Model Loss over Epochs')\n",
    "ax2.set_xlabel('Epoch')\n",
    "ax2.set_ylabel('Loss')\n",
    "ax2.legend()\n",
    "ax2.grid(True)\n",
    "ax2.xaxis.set_major_locator(MaxNLocator(integer=True))\n",
    "\n",
    "plt.tight_layout()\n",
    "plt.show()\n",
    "\n",
    "# Print best validation accuracy\n",
    "print(f'\\nBest validation accuracy: {best_val_acc:.4f}')"
   ]
  },
  {
   "cell_type": "markdown",
   "metadata": {},
   "source": [
    "## Load best model and evaluate on test set"
   ]
  },
  {
   "cell_type": "code",
   "execution_count": 13,
   "metadata": {},
   "outputs": [
    {
     "name": "stderr",
     "output_type": "stream",
     "text": [
      "                                                                                    "
     ]
    },
    {
     "name": "stdout",
     "output_type": "stream",
     "text": [
      "Test accuracy: 0.8638\n"
     ]
    },
    {
     "name": "stderr",
     "output_type": "stream",
     "text": [
      "\r"
     ]
    }
   ],
   "source": [
    "checkpoint = torch.load('best_model.pth')\n",
    "model.load_state_dict(checkpoint['model_state_dict'])\n",
    "test_loss, test_acc = validate(model, test_loader)\n",
    "print(f'Test accuracy: {test_acc:.4f}')\n"
   ]
  }
 ],
 "metadata": {
  "kernelspec": {
   "display_name": "base",
   "language": "python",
   "name": "python3"
  },
  "language_info": {
   "codemirror_mode": {
    "name": "ipython",
    "version": 3
   },
   "file_extension": ".py",
   "mimetype": "text/x-python",
   "name": "python",
   "nbconvert_exporter": "python",
   "pygments_lexer": "ipython3",
   "version": "3.12.7"
  }
 },
 "nbformat": 4,
 "nbformat_minor": 2
}
